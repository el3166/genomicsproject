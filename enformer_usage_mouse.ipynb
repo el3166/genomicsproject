{
  "cells": [
    {
      "cell_type": "markdown",
      "metadata": {
        "id": "rb_ShvB9E8yM"
      },
      "source": [
        "Copyright 2021 DeepMind Technologies Limited\n",
        "\n",
        "Licensed under the Apache License, Version 2.0 (the \"License\");\n",
        "you may not use this file except in compliance with the License.\n",
        "You may obtain a copy of the License at\n",
        "\n",
        "     https://www.apache.org/licenses/LICENSE-2.0\n",
        "\n",
        "Unless required by applicable law or agreed to in writing, software\n",
        "distributed under the License is distributed on an \"AS IS\" BASIS,\n",
        "WITHOUT WARRANTIES OR CONDITIONS OF ANY KIND, either express or implied.\n",
        "See the License for the specific language governing permissions and\n",
        "limitations under the License."
      ]
    },
    {
      "cell_type": "markdown",
      "metadata": {
        "id": "kXQjDxgdwUmW"
      },
      "source": [
        "This colab showcases the usage of the Enformer model published in\n",
        "\n",
        "**\"Effective gene expression prediction from sequence by integrating long-range interactions\"**\n",
        "\n",
        "Žiga Avsec, Vikram Agarwal, Daniel Visentin, Joseph R. Ledsam, Agnieszka Grabska-Barwinska, Kyle R. Taylor, Yannis Assael, John Jumper, Pushmeet Kohli, David R. Kelley"
      ]
    },
    {
      "cell_type": "markdown",
      "metadata": {
        "id": "tFnAHhx-ze9X"
      },
      "source": [
        "**Note:** This colab will not yet work since the model isn't yet publicly available. We are working on enabling this and will update the colab accordingly."
      ]
    },
    {
      "cell_type": "markdown",
      "metadata": {
        "id": "si-w2NPretDg"
      },
      "source": [
        "### Steps\n",
        "\n",
        "This colab demonstrates how to\n",
        "- Make predictions with Enformer and reproduce Fig. 1d\n",
        "- Compute contribution scores and reproduce parts of Fig. 2a\n",
        "- Predict the effect of a genetic variant and reproduce parts of Fig. 3g\n",
        "- Score multiple variants in a VCF "
      ]
    },
    {
      "cell_type": "markdown",
      "metadata": {
        "id": "wCCJsjaHwTYC"
      },
      "source": [
        "## Setup"
      ]
    },
    {
      "cell_type": "markdown",
      "metadata": {
        "id": "NqR7ol3rxrtM"
      },
      "source": [
        "**Start the colab kernel with GPU**: Runtime -> Change runtime type -> GPU"
      ]
    },
    {
      "cell_type": "code",
      "execution_count": null,
      "metadata": {
        "id": "hTGOLrbZxNHK"
      },
      "outputs": [],
      "source": [
        "import tensorflow as tf\n",
        "# Make sure the GPU is enabled \n",
        "assert tf.config.list_physical_devices('GPU'), 'Start the colab kernel with GPU: Runtime -> Change runtime type -> GPU'"
      ]
    },
    {
      "cell_type": "code",
      "execution_count": null,
      "metadata": {
        "id": "Eg8hcb45wqMM"
      },
      "outputs": [],
      "source": [
        "!pip install kipoiseq==0.5.2 --quiet > /dev/null\n",
        "# You can ignore the pyYAML error"
      ]
    },
    {
      "cell_type": "markdown",
      "metadata": {
        "id": "MCDk7UQPG0Lr"
      },
      "source": [
        "### Imports"
      ]
    },
    {
      "cell_type": "code",
      "execution_count": null,
      "metadata": {
        "colab": {
          "base_uri": "https://localhost:8080/"
        },
        "id": "NRI9KisU11bM",
        "outputId": "1af3eafc-f730-42e0-c75e-867d4151d1d8"
      },
      "outputs": [
        {
          "name": "stderr",
          "output_type": "stream",
          "text": [
            "WARNING:kipoi_utils.external.related.mixins:Unrecognized fields for DataLoaderDescription: {'postprocessing'}. Available fields are {'defined_as', 'path', 'writers', 'args', 'dependencies', 'type', 'output_schema', 'info'}\n",
            "WARNING:kipoi_utils.external.related.mixins:Unrecognized fields for DataLoaderDescription: {'postprocessing'}. Available fields are {'defined_as', 'path', 'writers', 'args', 'dependencies', 'type', 'output_schema', 'info'}\n",
            "WARNING:kipoi_utils.external.related.mixins:Unrecognized fields for DataLoaderDescription: {'postprocessing'}. Available fields are {'defined_as', 'path', 'writers', 'args', 'dependencies', 'type', 'output_schema', 'info'}\n"
          ]
        }
      ],
      "source": [
        "import tensorflow_hub as hub\n",
        "import joblib\n",
        "import gzip\n",
        "import kipoiseq\n",
        "from kipoiseq import Interval\n",
        "import pyfaidx\n",
        "import pandas as pd\n",
        "import numpy as np\n",
        "import matplotlib.pyplot as plt\n",
        "import matplotlib as mpl\n",
        "import seaborn as sns\n",
        "\n",
        "%matplotlib inline\n",
        "%config InlineBackend.figure_format = 'retina'"
      ]
    },
    {
      "cell_type": "code",
      "execution_count": null,
      "metadata": {
        "colab": {
          "base_uri": "https://localhost:8080/"
        },
        "id": "ShB6BTuJmRhA",
        "outputId": "668f83b4-fff2-4a1f-be90-af4d3ae32bbe"
      },
      "outputs": [
        {
          "name": "stdout",
          "output_type": "stream",
          "text": [
            "Mounted at /content/drive\n"
          ]
        }
      ],
      "source": [
        "from google.colab import drive\n",
        "drive.mount('/content/drive')"
      ]
    },
    {
      "cell_type": "code",
      "execution_count": null,
      "metadata": {
        "id": "g0F1A9AaCrkQ"
      },
      "outputs": [],
      "source": [
        "transform_path = 'gs://dm-enformer/models/enformer.finetuned.SAD.robustscaler-PCA500-robustscaler.transform.pkl'\n",
        "model_path = 'https://tfhub.dev/deepmind/enformer/1'\n",
        "fasta_file = '/content/drive/MyDrive/HostDB-62_MmusculusC57BL6J_Genome.fasta'\n",
        "clinvar_vcf = '/root/data/clinvar.vcf.gz'"
      ]
    },
    {
      "cell_type": "code",
      "execution_count": null,
      "metadata": {
        "colab": {
          "base_uri": "https://localhost:8080/",
          "height": 143
        },
        "id": "OlE6JAVfI08a",
        "outputId": "5ef791b7-0547-43d5-af8e-4abe53f11782"
      },
      "outputs": [
        {
          "data": {
            "text/html": [
              "\n",
              "  <div id=\"df-03ede310-8240-440d-b9fd-667d291acf62\">\n",
              "    <div class=\"colab-df-container\">\n",
              "      <div>\n",
              "<style scoped>\n",
              "    .dataframe tbody tr th:only-of-type {\n",
              "        vertical-align: middle;\n",
              "    }\n",
              "\n",
              "    .dataframe tbody tr th {\n",
              "        vertical-align: top;\n",
              "    }\n",
              "\n",
              "    .dataframe thead th {\n",
              "        text-align: right;\n",
              "    }\n",
              "</style>\n",
              "<table border=\"1\" class=\"dataframe\">\n",
              "  <thead>\n",
              "    <tr style=\"text-align: right;\">\n",
              "      <th></th>\n",
              "      <th>index</th>\n",
              "      <th>genome</th>\n",
              "      <th>identifier</th>\n",
              "      <th>file</th>\n",
              "      <th>clip</th>\n",
              "      <th>scale</th>\n",
              "      <th>sum_stat</th>\n",
              "      <th>description</th>\n",
              "    </tr>\n",
              "  </thead>\n",
              "  <tbody>\n",
              "    <tr>\n",
              "      <th>0</th>\n",
              "      <td>5313</td>\n",
              "      <td>1</td>\n",
              "      <td>ENCFF866ZTV</td>\n",
              "      <td>/home/drk/tillage/datasets/mouse/dnase/encode/...</td>\n",
              "      <td>32</td>\n",
              "      <td>2</td>\n",
              "      <td>mean</td>\n",
              "      <td>DNASE:B6D2F1/J 416B</td>\n",
              "    </tr>\n",
              "    <tr>\n",
              "      <th>1</th>\n",
              "      <td>5314</td>\n",
              "      <td>1</td>\n",
              "      <td>ENCFF695LHM</td>\n",
              "      <td>/home/drk/tillage/datasets/mouse/dnase/encode/...</td>\n",
              "      <td>32</td>\n",
              "      <td>2</td>\n",
              "      <td>mean</td>\n",
              "      <td>DNASE:BALB/cAnN A20</td>\n",
              "    </tr>\n",
              "    <tr>\n",
              "      <th>2</th>\n",
              "      <td>5315</td>\n",
              "      <td>1</td>\n",
              "      <td>ENCFF079SPZ</td>\n",
              "      <td>/home/drk/tillage/datasets/mouse/dnase/encode/...</td>\n",
              "      <td>32</td>\n",
              "      <td>2</td>\n",
              "      <td>mean</td>\n",
              "      <td>DNASE:C57BL/6 B cell male adult (8 weeks)</td>\n",
              "    </tr>\n",
              "  </tbody>\n",
              "</table>\n",
              "</div>\n",
              "      <button class=\"colab-df-convert\" onclick=\"convertToInteractive('df-03ede310-8240-440d-b9fd-667d291acf62')\"\n",
              "              title=\"Convert this dataframe to an interactive table.\"\n",
              "              style=\"display:none;\">\n",
              "        \n",
              "  <svg xmlns=\"http://www.w3.org/2000/svg\" height=\"24px\"viewBox=\"0 0 24 24\"\n",
              "       width=\"24px\">\n",
              "    <path d=\"M0 0h24v24H0V0z\" fill=\"none\"/>\n",
              "    <path d=\"M18.56 5.44l.94 2.06.94-2.06 2.06-.94-2.06-.94-.94-2.06-.94 2.06-2.06.94zm-11 1L8.5 8.5l.94-2.06 2.06-.94-2.06-.94L8.5 2.5l-.94 2.06-2.06.94zm10 10l.94 2.06.94-2.06 2.06-.94-2.06-.94-.94-2.06-.94 2.06-2.06.94z\"/><path d=\"M17.41 7.96l-1.37-1.37c-.4-.4-.92-.59-1.43-.59-.52 0-1.04.2-1.43.59L10.3 9.45l-7.72 7.72c-.78.78-.78 2.05 0 2.83L4 21.41c.39.39.9.59 1.41.59.51 0 1.02-.2 1.41-.59l7.78-7.78 2.81-2.81c.8-.78.8-2.07 0-2.86zM5.41 20L4 18.59l7.72-7.72 1.47 1.35L5.41 20z\"/>\n",
              "  </svg>\n",
              "      </button>\n",
              "      \n",
              "  <style>\n",
              "    .colab-df-container {\n",
              "      display:flex;\n",
              "      flex-wrap:wrap;\n",
              "      gap: 12px;\n",
              "    }\n",
              "\n",
              "    .colab-df-convert {\n",
              "      background-color: #E8F0FE;\n",
              "      border: none;\n",
              "      border-radius: 50%;\n",
              "      cursor: pointer;\n",
              "      display: none;\n",
              "      fill: #1967D2;\n",
              "      height: 32px;\n",
              "      padding: 0 0 0 0;\n",
              "      width: 32px;\n",
              "    }\n",
              "\n",
              "    .colab-df-convert:hover {\n",
              "      background-color: #E2EBFA;\n",
              "      box-shadow: 0px 1px 2px rgba(60, 64, 67, 0.3), 0px 1px 3px 1px rgba(60, 64, 67, 0.15);\n",
              "      fill: #174EA6;\n",
              "    }\n",
              "\n",
              "    [theme=dark] .colab-df-convert {\n",
              "      background-color: #3B4455;\n",
              "      fill: #D2E3FC;\n",
              "    }\n",
              "\n",
              "    [theme=dark] .colab-df-convert:hover {\n",
              "      background-color: #434B5C;\n",
              "      box-shadow: 0px 1px 3px 1px rgba(0, 0, 0, 0.15);\n",
              "      filter: drop-shadow(0px 1px 2px rgba(0, 0, 0, 0.3));\n",
              "      fill: #FFFFFF;\n",
              "    }\n",
              "  </style>\n",
              "\n",
              "      <script>\n",
              "        const buttonEl =\n",
              "          document.querySelector('#df-03ede310-8240-440d-b9fd-667d291acf62 button.colab-df-convert');\n",
              "        buttonEl.style.display =\n",
              "          google.colab.kernel.accessAllowed ? 'block' : 'none';\n",
              "\n",
              "        async function convertToInteractive(key) {\n",
              "          const element = document.querySelector('#df-03ede310-8240-440d-b9fd-667d291acf62');\n",
              "          const dataTable =\n",
              "            await google.colab.kernel.invokeFunction('convertToInteractive',\n",
              "                                                     [key], {});\n",
              "          if (!dataTable) return;\n",
              "\n",
              "          const docLinkHtml = 'Like what you see? Visit the ' +\n",
              "            '<a target=\"_blank\" href=https://colab.research.google.com/notebooks/data_table.ipynb>data table notebook</a>'\n",
              "            + ' to learn more about interactive tables.';\n",
              "          element.innerHTML = '';\n",
              "          dataTable['output_type'] = 'display_data';\n",
              "          await google.colab.output.renderOutput(dataTable, element);\n",
              "          const docLink = document.createElement('div');\n",
              "          docLink.innerHTML = docLinkHtml;\n",
              "          element.appendChild(docLink);\n",
              "        }\n",
              "      </script>\n",
              "    </div>\n",
              "  </div>\n",
              "  "
            ],
            "text/plain": [
              "   index  genome   identifier  \\\n",
              "0   5313       1  ENCFF866ZTV   \n",
              "1   5314       1  ENCFF695LHM   \n",
              "2   5315       1  ENCFF079SPZ   \n",
              "\n",
              "                                                file  clip  scale sum_stat  \\\n",
              "0  /home/drk/tillage/datasets/mouse/dnase/encode/...    32      2     mean   \n",
              "1  /home/drk/tillage/datasets/mouse/dnase/encode/...    32      2     mean   \n",
              "2  /home/drk/tillage/datasets/mouse/dnase/encode/...    32      2     mean   \n",
              "\n",
              "                                 description  \n",
              "0                        DNASE:B6D2F1/J 416B  \n",
              "1                        DNASE:BALB/cAnN A20  \n",
              "2  DNASE:C57BL/6 B cell male adult (8 weeks)  "
            ]
          },
          "execution_count": 6,
          "metadata": {},
          "output_type": "execute_result"
        }
      ],
      "source": [
        "# Download targets from Basenji2 dataset \n",
        "# Cite: Kelley et al Cross-species regulatory sequence activity prediction. PLoS Comput. Biol. 16, e1008050 (2020).\n",
        "targets_txt = 'https://raw.githubusercontent.com/calico/basenji/master/manuscripts/cross2020/targets_mouse.txt'\n",
        "df_targets = pd.read_csv(targets_txt, sep='\\t')\n",
        "df_targets.head(3)"
      ]
    },
    {
      "cell_type": "markdown",
      "metadata": {
        "id": "Q8ZhswycGux3"
      },
      "source": [
        "### Download files"
      ]
    },
    {
      "cell_type": "markdown",
      "metadata": {
        "id": "dowTJknFJOHu"
      },
      "source": [
        "Download and index the reference genome fasta file\n",
        "\n",
        "Credit to Genome Reference Consortium: https://www.ncbi.nlm.nih.gov/grc\n",
        "\n",
        "Schneider et al 2017 http://dx.doi.org/10.1101/gr.213611.116: Evaluation of GRCh38 and de novo haploid genome assemblies demonstrates the enduring quality of the reference assembly"
      ]
    },
    {
      "cell_type": "code",
      "execution_count": null,
      "metadata": {
        "colab": {
          "background_save": true,
          "base_uri": "https://localhost:8080/"
        },
        "id": "flOUYxP7Fjvh",
        "outputId": "f7218766-1f35-4b92-a8fe-0dff5e6aa9f3"
      },
      "outputs": [
        {
          "name": "stdout",
          "output_type": "stream",
          "text": [
            "--2023-05-04 19:05:34--  http://hgdownload.cse.ucsc.edu/goldenPath/hg38/bigZips/hg38.fa.gz\n",
            "Resolving hgdownload.cse.ucsc.edu (hgdownload.cse.ucsc.edu)... 128.114.119.163\n",
            "Connecting to hgdownload.cse.ucsc.edu (hgdownload.cse.ucsc.edu)|128.114.119.163|:80... connected.\n",
            "HTTP request sent, awaiting response... 200 OK\n",
            "Length: 983659424 (938M) [application/x-gzip]\n",
            "Saving to: ‘STDOUT’\n",
            "\n",
            "-                   100%[===================>] 938.09M  19.1MB/s    in 81s     \n",
            "\n",
            "2023-05-04 19:06:55 (11.5 MB/s) - written to stdout [983659424/983659424]\n",
            "\n"
          ]
        }
      ],
      "source": [
        "!mkdir -p /root/data\n",
        "!wget -O - http://hgdownload.cse.ucsc.edu/goldenPath/hg38/bigZips/hg38.fa.gz | gunzip -c > {fasta_file}\n",
        "pyfaidx.Faidx(fasta_file)\n",
        "!ls /root/data"
      ]
    },
    {
      "cell_type": "markdown",
      "metadata": {
        "id": "VwMZhF42JH18"
      },
      "source": [
        "Download the clinvar file. Reference:\n",
        "\n",
        "Landrum MJ, Lee JM, Benson M, Brown GR, Chao C, Chitipiralla S, Gu B, Hart J, Hoffman D, Jang W, Karapetyan K, Katz K, Liu C, Maddipatla Z, Malheiro A, McDaniel K, Ovetsky M, Riley G, Zhou G, Holmes JB, Kattman BL, Maglott DR. ClinVar: improving access to variant interpretations and supporting evidence. Nucleic Acids Res . 2018 Jan 4. PubMed PMID: 29165669 .\n"
      ]
    },
    {
      "cell_type": "code",
      "execution_count": null,
      "metadata": {
        "colab": {
          "background_save": true
        },
        "id": "4PjXFN5OcGbH",
        "outputId": "c8087ee2-fcf2-4b20-a697-c0945a17002c"
      },
      "outputs": [
        {
          "name": "stdout",
          "output_type": "stream",
          "text": [
            "--2023-05-04 19:07:43--  https://ftp.ncbi.nlm.nih.gov/pub/clinvar/vcf_GRCh38/clinvar.vcf.gz\n",
            "Resolving ftp.ncbi.nlm.nih.gov (ftp.ncbi.nlm.nih.gov)... 165.112.9.230, 130.14.250.10, 2607:f220:41e:250::10, ...\n",
            "Connecting to ftp.ncbi.nlm.nih.gov (ftp.ncbi.nlm.nih.gov)|165.112.9.230|:443... connected.\n",
            "HTTP request sent, awaiting response... 200 OK\n",
            "Length: 79735991 (76M) [application/x-gzip]\n",
            "Saving to: ‘/root/data/clinvar.vcf.gz’\n",
            "\n",
            "/root/data/clinvar. 100%[===================>]  76.04M  57.2MB/s    in 1.3s    \n",
            "\n",
            "2023-05-04 19:07:45 (57.2 MB/s) - ‘/root/data/clinvar.vcf.gz’ saved [79735991/79735991]\n",
            "\n"
          ]
        }
      ],
      "source": [
        "!wget https://ftp.ncbi.nlm.nih.gov/pub/clinvar/vcf_GRCh38/clinvar.vcf.gz -O /root/data/clinvar.vcf.gz"
      ]
    },
    {
      "cell_type": "markdown",
      "metadata": {
        "id": "Omj-KERcwSdB"
      },
      "source": [
        "### Code (double click on the title to show the code)"
      ]
    },
    {
      "cell_type": "code",
      "execution_count": null,
      "metadata": {
        "colab": {
          "background_save": true
        },
        "id": "47E4AEgLx1VT"
      },
      "outputs": [],
      "source": [
        "# @title `Enformer`, `EnformerScoreVariantsNormalized`, `EnformerScoreVariantsPCANormalized`,\n",
        "SEQUENCE_LENGTH = 393216\n",
        "\n",
        "class Enformer:\n",
        "\n",
        "  def __init__(self, tfhub_url):\n",
        "    self._model = hub.load(tfhub_url).model\n",
        "\n",
        "  def predict_on_batch(self, inputs):\n",
        "    predictions = self._model.predict_on_batch(inputs)\n",
        "    return {k: v.numpy() for k, v in predictions.items()}\n",
        "\n",
        "  @tf.function\n",
        "  def contribution_input_grad(self, input_sequence,\n",
        "                              target_mask, output_head='human'):\n",
        "    input_sequence = input_sequence[tf.newaxis]\n",
        "\n",
        "    target_mask_mass = tf.reduce_sum(target_mask)\n",
        "    with tf.GradientTape() as tape:\n",
        "      tape.watch(input_sequence)\n",
        "      prediction = tf.reduce_sum(\n",
        "          target_mask[tf.newaxis] *\n",
        "          self._model.predict_on_batch(input_sequence)[output_head]) / target_mask_mass\n",
        "\n",
        "    input_grad = tape.gradient(prediction, input_sequence) * input_sequence\n",
        "    input_grad = tf.squeeze(input_grad, axis=0)\n",
        "    return tf.reduce_sum(input_grad, axis=-1)\n",
        "\n",
        "\n",
        "class EnformerScoreVariantsRaw:\n",
        "\n",
        "  def __init__(self, tfhub_url, organism='human'):\n",
        "    self._model = Enformer(tfhub_url)\n",
        "    self._organism = organism\n",
        "  \n",
        "  def predict_on_batch(self, inputs):\n",
        "    ref_prediction = self._model.predict_on_batch(inputs['ref'])[self._organism]\n",
        "    alt_prediction = self._model.predict_on_batch(inputs['alt'])[self._organism]\n",
        "\n",
        "    return alt_prediction.mean(axis=1) - ref_prediction.mean(axis=1)\n",
        "\n",
        "\n",
        "class EnformerScoreVariantsNormalized:\n",
        "\n",
        "  def __init__(self, tfhub_url, transform_pkl_path,\n",
        "               organism='human'):\n",
        "    assert organism == 'human', 'Transforms only compatible with organism=human'\n",
        "    self._model = EnformerScoreVariantsRaw(tfhub_url, organism)\n",
        "    with tf.io.gfile.GFile(transform_pkl_path, 'rb') as f:\n",
        "      transform_pipeline = joblib.load(f)\n",
        "    self._transform = transform_pipeline.steps[0][1]  # StandardScaler.\n",
        "    \n",
        "  def predict_on_batch(self, inputs):\n",
        "    scores = self._model.predict_on_batch(inputs)\n",
        "    return self._transform.transform(scores)\n",
        "\n",
        "\n",
        "class EnformerScoreVariantsPCANormalized:\n",
        "\n",
        "  def __init__(self, tfhub_url, transform_pkl_path,\n",
        "               organism='human', num_top_features=500):\n",
        "    self._model = EnformerScoreVariantsRaw(tfhub_url, organism)\n",
        "    with tf.io.gfile.GFile(transform_pkl_path, 'rb') as f:\n",
        "      self._transform = joblib.load(f)\n",
        "    self._num_top_features = num_top_features\n",
        "    \n",
        "  def predict_on_batch(self, inputs):\n",
        "    scores = self._model.predict_on_batch(inputs)\n",
        "    return self._transform.transform(scores)[:, :self._num_top_features]\n",
        "\n",
        "\n",
        "# TODO(avsec): Add feature description: Either PCX, or full names."
      ]
    },
    {
      "cell_type": "code",
      "execution_count": null,
      "metadata": {
        "colab": {
          "background_save": true
        },
        "id": "uLYRbOXDyA36"
      },
      "outputs": [],
      "source": [
        "# @title `variant_centered_sequences`\n",
        "\n",
        "class FastaStringExtractor:\n",
        "    \n",
        "    def __init__(self, fasta_file):\n",
        "        self.fasta = pyfaidx.Fasta(fasta_file)\n",
        "        self._chromosome_sizes = {k: len(v) for k, v in self.fasta.items()}\n",
        "\n",
        "    def extract(self, interval: Interval, **kwargs) -> str:\n",
        "        # Truncate interval if it extends beyond the chromosome lengths.\n",
        "        chromosome_length = self._chromosome_sizes[interval.chrom]\n",
        "        trimmed_interval = Interval(interval.chrom,\n",
        "                                    max(interval.start, 0),\n",
        "                                    min(interval.end, chromosome_length),\n",
        "                                    )\n",
        "        # pyfaidx wants a 1-based interval\n",
        "        sequence = str(self.fasta.get_seq(trimmed_interval.chrom,\n",
        "                                          trimmed_interval.start + 1,\n",
        "                                          trimmed_interval.stop).seq).upper()\n",
        "        # Fill truncated values with N's.\n",
        "        pad_upstream = 'N' * max(-interval.start, 0)\n",
        "        pad_downstream = 'N' * max(interval.end - chromosome_length, 0)\n",
        "        return pad_upstream + sequence + pad_downstream\n",
        "\n",
        "    def close(self):\n",
        "        return self.fasta.close()\n",
        "\n",
        "\n",
        "def variant_generator(vcf_file, gzipped=False):\n",
        "  \"\"\"Yields a kipoiseq.dataclasses.Variant for each row in VCF file.\"\"\"\n",
        "  def _open(file):\n",
        "    return gzip.open(vcf_file, 'rt') if gzipped else open(vcf_file)\n",
        "    \n",
        "  with _open(vcf_file) as f:\n",
        "    for line in f:\n",
        "      if line.startswith('#'):\n",
        "        continue\n",
        "      chrom, pos, id, ref, alt_list = line.split('\\t')[:5]\n",
        "      # Split ALT alleles and return individual variants as output.\n",
        "      for alt in alt_list.split(','):\n",
        "        yield kipoiseq.dataclasses.Variant(chrom=chrom, pos=pos,\n",
        "                                           ref=ref, alt=alt, id=id)\n",
        "\n",
        "\n",
        "def one_hot_encode(sequence):\n",
        "  return kipoiseq.transforms.functional.one_hot_dna(sequence).astype(np.float32)\n",
        "\n",
        "\n",
        "def variant_centered_sequences(vcf_file, sequence_length, gzipped=False,\n",
        "                               chr_prefix=''):\n",
        "  seq_extractor = kipoiseq.extractors.VariantSeqExtractor(\n",
        "    reference_sequence=FastaStringExtractor(fasta_file))\n",
        "\n",
        "  for variant in variant_generator(vcf_file, gzipped=gzipped):\n",
        "    interval = Interval(chr_prefix + variant.chrom,\n",
        "                        variant.pos, variant.pos)\n",
        "    interval = interval.resize(sequence_length)\n",
        "    center = interval.center() - interval.start\n",
        "\n",
        "    reference = seq_extractor.extract(interval, [], anchor=center)\n",
        "    alternate = seq_extractor.extract(interval, [variant], anchor=center)\n",
        "\n",
        "    yield {'inputs': {'ref': one_hot_encode(reference),\n",
        "                      'alt': one_hot_encode(alternate)},\n",
        "           'metadata': {'chrom': chr_prefix + variant.chrom,\n",
        "                        'pos': variant.pos,\n",
        "                        'id': variant.id,\n",
        "                        'ref': variant.ref,\n",
        "                        'alt': variant.alt}}"
      ]
    },
    {
      "cell_type": "code",
      "execution_count": null,
      "metadata": {
        "colab": {
          "background_save": true
        },
        "id": "Up1oCMFiPucp"
      },
      "outputs": [],
      "source": [
        "# @title `plot_tracks`\n",
        "\n",
        "def plot_tracks(tracks, interval, height=1.5):\n",
        "  fig, axes = plt.subplots(len(tracks), 1, figsize=(20, height * len(tracks)), sharex=True)\n",
        "  for ax, (title, y) in zip(axes, tracks.items()):\n",
        "    ax.fill_between(np.linspace(interval.start, interval.end, num=len(y)), y)\n",
        "    ax.set_title(title)\n",
        "    sns.despine(top=True, right=True, bottom=True)\n",
        "  ax.set_xlabel(str(interval))\n",
        "  plt.tight_layout()"
      ]
    },
    {
      "cell_type": "markdown",
      "metadata": {
        "id": "zEwfoz3cwOzt"
      },
      "source": [
        "## Make predictions for a genetic sequenece"
      ]
    },
    {
      "cell_type": "code",
      "execution_count": null,
      "metadata": {
        "colab": {
          "background_save": true
        },
        "id": "WC-pgC35DgnL"
      },
      "outputs": [],
      "source": [
        "model = Enformer(model_path)\n",
        "\n",
        "fasta_extractor = FastaStringExtractor(fasta_file)"
      ]
    },
    {
      "cell_type": "code",
      "execution_count": null,
      "metadata": {
        "id": "8u8Gt8WWyG53"
      },
      "outputs": [],
      "source": [
        "# @title Make predictions for an genomic example interval\n",
        "target_interval = kipoiseq.Interval('chr10', 35_082_742, 35_197_430)  # @param\n",
        "\n",
        "sequence_one_hot = one_hot_encode(fasta_extractor.extract(target_interval.resize(SEQUENCE_LENGTH)))\n",
        "predictions = model.predict_on_batch(sequence_one_hot[np.newaxis])['mouse'][0]"
      ]
    },
    {
      "cell_type": "code",
      "execution_count": null,
      "metadata": {
        "id": "_wL4c66ZXK0k"
      },
      "outputs": [],
      "source": [
        "# @title Plot tracks\n",
        "tracks = {'DNASE:CD14-positive monocyte female': predictions[:, 41],\n",
        "          'DNASE:keratinocyte female': predictions[:, 42],\n",
        "          'CHIP:H3K27ac:keratinocyte female': predictions[:, 706]}\n",
        "          #'CAGE:Keratinocyte - epidermal': np.log10(1 + predictions[:, 4799])}\n",
        "plot_tracks(tracks, target_interval)"
      ]
    },
    {
      "cell_type": "markdown",
      "metadata": {
        "id": "gM2KwV8gwMNj"
      },
      "source": [
        "## Contribution scores example"
      ]
    },
    {
      "cell_type": "code",
      "execution_count": null,
      "metadata": {
        "id": "o4c2W_MjNBzp"
      },
      "outputs": [],
      "source": [
        "# @title Compute contribution scores\n",
        "target_interval = kipoiseq.Interval('chr12', 54_223_589, 54_338_277)  # @param\n",
        "\n",
        "sequence_one_hot = one_hot_encode(fasta_extractor.extract(target_interval.resize(SEQUENCE_LENGTH)))\n",
        "predictions = model.predict_on_batch(sequence_one_hot[np.newaxis])['mouse'][0]\n",
        "\n",
        "target_mask = np.zeros_like(predictions)\n",
        "for idx in [447, 448, 449]:\n",
        "  target_mask[idx, 511] = 1\n",
        "  target_mask[idx, 511] = 1\n",
        "# This will take some time since tf.function needs to get compiled.\n",
        "contribution_scores = model.contribution_input_grad(sequence_one_hot.astype(np.float32), target_mask).numpy()\n",
        "pooled_contribution_scores = tf.nn.avg_pool1d(np.abs(contribution_scores)[np.newaxis, :, np.newaxis], 128, 128, 'VALID')[0, :, 0].numpy()[1088:-1088]"
      ]
    },
    {
      "cell_type": "code",
      "execution_count": null,
      "metadata": {
        "id": "y-s0yQMOXO7x"
      },
      "outputs": [],
      "source": [
        "tracks = {'CAGE predictions': predictions[:, 4828],\n",
        "          'Enformer gradient*input': np.minimum(pooled_contribution_scores, 0.03)}\n",
        "plot_tracks(tracks, target_interval);"
      ]
    },
    {
      "cell_type": "markdown",
      "metadata": {
        "id": "iiDN_ScSv3sI"
      },
      "source": [
        "## Variant scoring example"
      ]
    },
    {
      "cell_type": "code",
      "execution_count": null,
      "metadata": {
        "id": "hIaN9GKDVwLK"
      },
      "outputs": [],
      "source": [
        "# @title Score the variant\n",
        "variant = kipoiseq.Variant('chr16', 57025062, 'C', 'T', id='rs11644125')  # @param\n",
        "\n",
        "# Center the interval at the variant\n",
        "interval = kipoiseq.Interval(variant.chrom, variant.start, variant.start).resize(SEQUENCE_LENGTH)\n",
        "seq_extractor = kipoiseq.extractors.VariantSeqExtractor(reference_sequence=fasta_extractor)\n",
        "center = interval.center() - interval.start\n",
        "\n",
        "reference = seq_extractor.extract(interval, [], anchor=center)\n",
        "alternate = seq_extractor.extract(interval, [variant], anchor=center)\n",
        "\n",
        "# Make predictions for the refernece and alternate allele\n",
        "reference_prediction = model.predict_on_batch(one_hot_encode(reference)[np.newaxis])['mouse'][0]\n",
        "alternate_prediction = model.predict_on_batch(one_hot_encode(alternate)[np.newaxis])['mouse'][0]"
      ]
    },
    {
      "cell_type": "code",
      "execution_count": null,
      "metadata": {
        "id": "in1PyiWoXXjc"
      },
      "outputs": [],
      "source": [
        "# @title Visualize some tracks\n",
        "variant_track = np.zeros_like(reference_prediction[:, 0], dtype=bool)\n",
        "variant_track[variant_track.shape[0] // 2] = True\n",
        "tracks = {'variant': variant_track,\n",
        "          'CAGE/neutrofils ref': reference_prediction[:, 1600],\n",
        "          'CAGE/neutrofils alt-ref': alternate_prediction[:, 1600] - reference_prediction[:, 1600],\n",
        "          'CHIP:H3K27ac:neutrophil ref': reference_prediction[:, 1100],\n",
        "          'CHIP:H3K27ac:neutrophil alt-ref': alternate_prediction[:, 1100] - reference_prediction[:, 1100],\n",
        "          }\n",
        "\n",
        "plot_tracks(tracks, interval.resize(reference_prediction.shape[0] * 128), height=1)"
      ]
    },
    {
      "cell_type": "markdown",
      "metadata": {
        "id": "ZMCU9woQv6Ea"
      },
      "source": [
        "## Score variants in a VCF file"
      ]
    },
    {
      "cell_type": "markdown",
      "metadata": {
        "id": "c1nJwFS-4P8g"
      },
      "source": [
        "### Report top 20 PCs"
      ]
    },
    {
      "cell_type": "code",
      "execution_count": null,
      "metadata": {
        "id": "-vmj1MA3chRQ"
      },
      "outputs": [],
      "source": [
        "enformer_score_variants = EnformerScoreVariantsPCANormalized(model_path, transform_path, num_top_features=20)"
      ]
    },
    {
      "cell_type": "code",
      "execution_count": null,
      "metadata": {
        "id": "1oGEYix3dRex"
      },
      "outputs": [],
      "source": [
        "# Score the first 5 variants from ClinVar\n",
        "# Lower-dimensional scores (20 PCs)\n",
        "it = variant_centered_sequences(clinvar_vcf, sequence_length=SEQUENCE_LENGTH,\n",
        "                                gzipped=True, chr_prefix='chr')\n",
        "example_list = []\n",
        "for i, example in enumerate(it):\n",
        "  if i >= 5:\n",
        "    break\n",
        "  variant_scores = enformer_score_variants.predict_on_batch(\n",
        "      {k: v[tf.newaxis] for k,v in example['inputs'].items()})[0]\n",
        "  variant_scores = {f'PC{i}': score for i, score in enumerate(variant_scores)}\n",
        "  example_list.append({**example['metadata'],\n",
        "                       **variant_scores})\n",
        "  if i % 2 == 0:\n",
        "    print(f'Done {i}')\n",
        "df = pd.DataFrame(example_list)\n",
        "df"
      ]
    },
    {
      "cell_type": "markdown",
      "metadata": {
        "id": "_G5cANX34SLw"
      },
      "source": [
        "### Report all 5,313 features (z-score normalized)"
      ]
    },
    {
      "cell_type": "code",
      "execution_count": null,
      "metadata": {
        "id": "get8hogCySnt"
      },
      "outputs": [],
      "source": [
        "enformer_score_variants_all = EnformerScoreVariantsNormalized(model_path, transform_path)"
      ]
    },
    {
      "cell_type": "code",
      "execution_count": null,
      "metadata": {
        "id": "Q48earqRyFa6"
      },
      "outputs": [],
      "source": [
        "# Score the first 5 variants from ClinVar\n",
        "# All Scores\n",
        "it = variant_centered_sequences(clinvar_vcf, sequence_length=SEQUENCE_LENGTH,\n",
        "                                gzipped=True, chr_prefix='chr')\n",
        "example_list = []\n",
        "for i, example in enumerate(it):\n",
        "  if i >= 5:\n",
        "    break\n",
        "  variant_scores = enformer_score_variants_all.predict_on_batch(\n",
        "      {k: v[tf.newaxis] for k,v in example['inputs'].items()})[0]\n",
        "  variant_scores = {f'{i}_{name[:20]}': score for i, (name, score) in enumerate(zip(df_targets.description, variant_scores))}\n",
        "  example_list.append({**example['metadata'],\n",
        "                       **variant_scores})\n",
        "  if i % 2 == 0:\n",
        "    print(f'Done {i}')\n",
        "df = pd.DataFrame(example_list)\n",
        "df"
      ]
    }
  ],
  "metadata": {
    "accelerator": "GPU",
    "colab": {
      "provenance": []
    },
    "kernelspec": {
      "display_name": "Python 3",
      "name": "python3"
    }
  },
  "nbformat": 4,
  "nbformat_minor": 0
}